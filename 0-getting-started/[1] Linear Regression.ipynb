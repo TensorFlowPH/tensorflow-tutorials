{
 "cells": [
  {
   "cell_type": "markdown",
   "metadata": {},
   "source": [
    "Linear Regression in One Variable\n",
    "===\n",
    "\n",
    "### by [Abien Fred Agarap](https://github.com/AFAgarap)"
   ]
  },
  {
   "cell_type": "markdown",
   "metadata": {},
   "source": [
    "This is a linear approach for modeling the relationship between a scalar dependent variable $y$ and one or more independent variables $x$.\n",
    "\n",
    "If the correlation coefficient indicates that the data can be used for prediction, and the scatter plot of data seems to form a straight line, that's the time to use linear regression. Recall that the equation of a straight line is $y = mx + b$, the notation may vary -- this is the linear regression equation. To get the values $m$ and $b$ for the equation, we use the following formulas:\n",
    "\n",
    "\\\\[b = \\dfrac{(\\sum{y})(\\sum{x^2}) - (\\sum{x})(\\sum{xy})}{n(\\sum{x^2}) - (\\sum{x})^2}\\\\]\n",
    "\n",
    "\\\\[m = \\dfrac{n(\\sum{xy}) - (\\sum{x})(\\sum{y})}{n(\\sum{x^2}) - (\\sum{x})^2}\\\\]\n",
    "\n",
    "Let us use the following data:\n",
    "\n",
    "Subject|Age (x)|Glucose Level (y)|\n",
    "-------|-------|-----------------|\n",
    "0|43|99|\n",
    "1|21|65|\n",
    "2|25|79|\n",
    "3|42|75|\n",
    "4|57|87|\n",
    "5|59|81|\n",
    "$\\sum$|247|486|"
   ]
  },
  {
   "cell_type": "code",
   "execution_count": 1,
   "metadata": {
    "scrolled": true
   },
   "outputs": [],
   "source": [
    "import matplotlib.pyplot as plt\n",
    "import numpy as np\n",
    "\n",
    "data = np.array([[43, 99], [21, 65], [25, 79], [42, 75], [57, 87], [59, 81]])"
   ]
  },
  {
   "cell_type": "code",
   "execution_count": 2,
   "metadata": {},
   "outputs": [],
   "source": [
    "# isolate the x variable\n",
    "x = data[:, 0]\n",
    "\n",
    "# isolate the y variable\n",
    "y = data[:, 1]"
   ]
  },
  {
   "cell_type": "code",
   "execution_count": 3,
   "metadata": {},
   "outputs": [],
   "source": [
    "# let's implement the formula\n",
    "b = (np.sum(y) * np.sum(x**2) - np.sum(x) * np.sum(x * y)) / (data.shape[0] * np.sum(x**2) - np.sum(x)**2)\n",
    "m = (data.shape[0] * (np.sum(x*y)) - np.sum(x) * np.sum(y)) / (data.shape[0] * np.sum(x**2) - np.sum(x)**2)"
   ]
  },
  {
   "cell_type": "code",
   "execution_count": 4,
   "metadata": {},
   "outputs": [
    {
     "name": "stdout",
     "output_type": "stream",
     "text": [
      "b : 65.1415715245131\n",
      "m : 0.3852249832102082\n"
     ]
    }
   ],
   "source": [
    "# display the equation coefficients\n",
    "print('b : {}'.format(b))\n",
    "print('m : {}'.format(m))"
   ]
  },
  {
   "cell_type": "markdown",
   "metadata": {},
   "source": [
    "Thus, we have the following linear regression equation: $y = 0.385225x + 65.1416$"
   ]
  },
  {
   "cell_type": "code",
   "execution_count": 5,
   "metadata": {},
   "outputs": [],
   "source": [
    "def fn(x):\n",
    "    return m * x.astype(np.float64) + b"
   ]
  },
  {
   "cell_type": "code",
   "execution_count": 6,
   "metadata": {},
   "outputs": [
    {
     "name": "stdout",
     "output_type": "stream",
     "text": [
      "[43, 21, 25, 42, 57, 59]\n",
      "[81.70624580255205, 73.23129617192747, 74.7721961047683, 81.32102081934184, 87.09939556749497, 87.86984553391538]\n"
     ]
    }
   ],
   "source": [
    "print([element for element in x])\n",
    "print([fn(element) for element in x])"
   ]
  },
  {
   "cell_type": "code",
   "execution_count": 7,
   "metadata": {},
   "outputs": [
    {
     "data": {
      "image/png": "[encoded data removed]",
      "text/plain": [
       "<Figure size 432x288 with 1 Axes>"
      ]
     },
     "metadata": {},
     "output_type": "display_data"
    }
   ],
   "source": [
    "figure_regression = plt.figure()\n",
    "f_axes = figure_regression.add_subplot(111)\n",
    "f_axes.scatter(x, y)\n",
    "f_axes.plot(x, [fn(element) for element in x])\n",
    "\n",
    "\n",
    "# add a grid\n",
    "plt.grid()\n",
    "\n",
    "# show the plot\n",
    "plt.show()"
   ]
  },
  {
   "cell_type": "markdown",
   "metadata": {},
   "source": [
    "### Scikit-learn\n",
    "\n",
    "What we just did was the Pearson method for Linear Regression. Scikit-learn provides a linear regression model that uses a learning algorithm such as Gradient Descent, and it only takes a couple lines of codes."
   ]
  },
  {
   "cell_type": "code",
   "execution_count": 8,
   "metadata": {},
   "outputs": [
    {
     "data": {
      "text/plain": [
       "LinearRegression(copy_X=True, fit_intercept=True, n_jobs=1, normalize=False)"
      ]
     },
     "execution_count": 8,
     "metadata": {},
     "output_type": "execute_result"
    }
   ],
   "source": [
    "from sklearn.linear_model import LinearRegression\n",
    "\n",
    "model = LinearRegression()\n",
    "\n",
    "# the np.reshape is needed here as we are dealing with single variable case\n",
    "# the model demands for a data with shape [?, 1]\n",
    "model.fit(np.reshape(x, newshape=(-1, 1)), y)"
   ]
  },
  {
   "cell_type": "code",
   "execution_count": 9,
   "metadata": {},
   "outputs": [
    {
     "data": {
      "image/png": "[encoded data removed]",
      "text/plain": [
       "<Figure size 432x288 with 1 Axes>"
      ]
     },
     "metadata": {},
     "output_type": "display_data"
    }
   ],
   "source": [
    "figure_regression_sklearn = plt.figure()\n",
    "f_axes = figure_regression_sklearn.add_subplot(111)\n",
    "f_axes.scatter(x, y)\n",
    "f_axes.plot(x, model.predict(np.reshape(x, newshape=(-1, 1))))\n",
    "\n",
    "plt.grid()\n",
    "\n",
    "plt.show()"
   ]
  },
  {
   "cell_type": "markdown",
   "metadata": {},
   "source": [
    "## Gradient Descent"
   ]
  },
  {
   "cell_type": "markdown",
   "metadata": {},
   "source": [
    "The Gradient Descent is an incremental method for stochastic approximation of an objective function. Mathematically, it is the sum of differentiable functions that aims to determine the minima of the objective function through iteration.\n",
    "\n",
    "In machine learning, each gradient descent iteration optimizes an objective function based on the loss value (also known as _error value_). In other words, through gradient descent, we attempt to determine the most optimal \"version\" of a given model (e.g. linear regression).\n",
    "\n",
    "Take for example the following data,"
   ]
  },
  {
   "cell_type": "code",
   "execution_count": 10,
   "metadata": {},
   "outputs": [],
   "source": [
    "data = np.genfromtxt('../datasets/cricket_chirps.csv', delimiter=',')[1:]"
   ]
  },
  {
   "cell_type": "code",
   "execution_count": 11,
   "metadata": {},
   "outputs": [
    {
     "data": {
      "text/plain": [
       "array([[20.        , 88.59999847],\n",
       "       [16.        , 71.59999847],\n",
       "       [19.79999924, 93.30000305],\n",
       "       [18.39999962, 84.30000305],\n",
       "       [17.10000038, 80.59999847],\n",
       "       [15.5       , 75.19999695],\n",
       "       [14.69999981, 69.69999695],\n",
       "       [17.10000038, 82.        ],\n",
       "       [15.39999962, 69.40000153],\n",
       "       [16.20000076, 83.30000305]])"
      ]
     },
     "execution_count": 11,
     "metadata": {},
     "output_type": "execute_result"
    }
   ],
   "source": [
    "data[:10]"
   ]
  },
  {
   "cell_type": "markdown",
   "metadata": {},
   "source": [
    "Let's see the scatterplot of the data to see if Linear Regression is applicable. "
   ]
  },
  {
   "cell_type": "code",
   "execution_count": 12,
   "metadata": {},
   "outputs": [
    {
     "data": {
      "image/png": "[encoded data removed]",
      "text/plain": [
       "<Figure size 432x288 with 1 Axes>"
      ]
     },
     "metadata": {},
     "output_type": "display_data"
    }
   ],
   "source": [
    "plt.scatter(data[:, 0], data[:, 1])\n",
    "plt.show()"
   ]
  },
  {
   "cell_type": "markdown",
   "metadata": {},
   "source": [
    "From the scatterplot, we can infer that we may apply Linear Regression as they somehow form a linear pattern. Take note that this decision was a qualitative approach, for a quantitative approach, you may use the [Pearson correlation coefficient](https://en.wikipedia.org/wiki/Pearson_correlation_coefficient).\n",
    "\n",
    "Now, you'll be thinking we can apply the closed-form solution we did above to get the Linear Regression equation. But no, we are not. We are going to implement the Gradient Descent algorithm (as it is the section we are in now). Why? In some cases, it is computationally more efficient. For a detailed answer, refer to this [answer](https://stats.stackexchange.com/questions/278755/why-use-gradient-descent-for-linear-regression-when-a-closed-form-math-solution) in Cross Validated."
   ]
  },
  {
   "cell_type": "markdown",
   "metadata": {},
   "source": [
    "Before defining the gradient descent algorithm, we must first know how are we going to measure the error value of the linear regression prediction, and it is through the Least-Squares cost function,\n",
    "\n",
    "$$ J(w) = \\dfrac{1}{2} \\sum_{i}^{N} (wx+b - y)^{2} $$\n",
    "\n",
    "where $y$ is the actual value, and $wx+b$ is the predicted value.\n",
    "\n",
    "Our goal is to minimize the error of our predictions, $\\min J(w)$. Here comes in the gradient descent algorithm. What it does is to start its search for the most optimal $w$ with some arbitrary \"guess\". Then, it repeatedly changes $w$ to make $J(w)$ smaller until it convergence. The gradient descent has the following update rule\n",
    "\n",
    "$$ w_{i} = w_{i} - \\alpha \\dfrac{\\partial}{\\partial w_{i}} J(w) $$\n",
    "\n",
    "where $\\alpha$ is the **learning rate**. The learning rate dictates how fast or how slow does the algorithm learn. There is **no definite rule** for setting the learning rate, we accomplish this through trial-and-error. However, some default values we use would be 0.01, 0.001, and 0.0001 among others. It depends on your data and learning algorithm.\n",
    "\n",
    "To implement this algorithm, we have to take the partial derivative of our cost function with respect to $w$. That is, we must know how much influence does the $w$ has on the predictions. For now, we shall work it out for a single-variable case,\n",
    "\n",
    "$$ \\dfrac{\\partial}{\\partial w_{i}} J(w) = \\dfrac{\\partial}{\\partial w_{i}} \\dfrac{1}{2} (wx+b - y)^{2} \\\\\n",
    "= 2 \\cdot \\dfrac{1}{2} (wx+b - y) \\cdot \\dfrac{\\partial}{\\partial w_{i}} (wx+b - y) \\\\\n",
    "= (wx+b - y) \\cdot \\dfrac{\\partial}{\\partial w_{i}} (wx+b - y) \\\\\n",
    "\\dfrac{\\partial J(w)}{\\partial w_{i}} = (wx+b - y) \\cdot x $$\n",
    "\n",
    "Hence, we have the following algorithm\n",
    "\n",
    "```\n",
    "Loop until convergence {\n",
    "```\n",
    "$$ w_{i} = w_{i} - \\alpha\\ (wx+b - y) \\cdot x $$\n",
    "```\n",
    "}\n",
    "```\n",
    "\n",
    "The algorithm we have defined above is the batch gradient descent. By practice, there is no specific value for convergence. Convergence may be said to be reached when changes in error values are almost negligible (infinitesimally small). We set arbitrary values for the loop condition then."
   ]
  },
  {
   "cell_type": "markdown",
   "metadata": {},
   "source": [
    "Recall that we stored our dataset to `data`. We shall now store the dataset to a more intuitive set of variables,"
   ]
  },
  {
   "cell_type": "code",
   "execution_count": 13,
   "metadata": {},
   "outputs": [],
   "source": [
    "x = data[:, 0]\n",
    "y = data[:, 1]"
   ]
  },
  {
   "cell_type": "markdown",
   "metadata": {},
   "source": [
    "As we have defined above, the gradient descent algorithm starts with an arbitrary guess. Hence, we use the `np.random.randint` for generating our `w` and `b` variables.\n",
    "\n",
    "The training procedures boils down to four steps,\n",
    "\n",
    "(1) Produce some predictions, $h = wx + b$\n",
    "\n",
    "(2) Measure the error values of the predictions, $\\sum_{i}^{n} \\dfrac{1}{2} (wx+b - y)^{2}$\n",
    "\n",
    "(3) Compute for the gradient (partial derivative), $\\dfrac{\\partial}{\\partial w_{i}} = (wx+b - y) \\cdot x$\n",
    "\n",
    "(4) Update the $w$ parameter, $w_{i} = w_{i} - \\alpha \\cdot \\dfrac{\\partial J(w)}{\\partial w_{i}}$"
   ]
  },
  {
   "cell_type": "code",
   "execution_count": 14,
   "metadata": {
    "scrolled": true
   },
   "outputs": [
    {
     "name": "stdout",
     "output_type": "stream",
     "text": [
      "step 100, loss : 134.35850812662514\n",
      "step 200, loss : 134.35850812662514\n",
      "step 300, loss : 134.35850812662514\n",
      "step 400, loss : 134.35850812662514\n",
      "step 500, loss : 134.35850812662514\n",
      "step 600, loss : 134.35850812662514\n",
      "step 700, loss : 134.35850812662514\n",
      "step 800, loss : 134.35850812662514\n",
      "step 900, loss : 134.35850812662514\n"
     ]
    }
   ],
   "source": [
    "N = data.shape[0]\n",
    "w, b = np.random.randint(N), np.random.randint(N)\n",
    "\n",
    "for e in range(1000):\n",
    "    h = w * x + b\n",
    "    \n",
    "    loss = np.sum(np.square(h - y)) / 2\n",
    "\n",
    "    if e % 100 == 0 and e != 0:\n",
    "        print('step {}, loss : {}'.format(e, loss))\n",
    "    \n",
    "    grad_w = np.dot((h - y), x)\n",
    "    \n",
    "    w -= (1e-4 * grad_w)"
   ]
  },
  {
   "cell_type": "markdown",
   "metadata": {},
   "source": [
    "Let's display the resulting $w$ from the gradient descent."
   ]
  },
  {
   "cell_type": "code",
   "execution_count": 15,
   "metadata": {},
   "outputs": [
    {
     "name": "stdout",
     "output_type": "stream",
     "text": [
      "b : 2\n",
      "m : 0.3852249832102082\n"
     ]
    }
   ],
   "source": [
    "print('b : {}'.format(b))\n",
    "print('m : {}'.format(m))"
   ]
  },
  {
   "cell_type": "markdown",
   "metadata": {},
   "source": [
    "Let's display the predictions of our linear regression model."
   ]
  },
  {
   "cell_type": "code",
   "execution_count": 16,
   "metadata": {},
   "outputs": [
    {
     "data": {
      "text/plain": [
       "array([95.45358705, 76.76286964, 94.51904763, 87.97729831, 81.90281871,\n",
       "       74.42652997, 70.6883856 , 81.90281871, 73.95926025, 77.69740906,\n",
       "       72.09019029, 82.37008842, 76.76286964, 81.43554899, 69.2865809 ])"
      ]
     },
     "execution_count": 16,
     "metadata": {},
     "output_type": "execute_result"
    }
   ],
   "source": [
    "h"
   ]
  },
  {
   "cell_type": "code",
   "execution_count": 17,
   "metadata": {},
   "outputs": [
    {
     "data": {
      "text/plain": [
       "array([88.59999847, 71.59999847, 93.30000305, 84.30000305, 80.59999847,\n",
       "       75.19999695, 69.69999695, 82.        , 69.40000153, 83.30000305,\n",
       "       79.59999847, 82.59999847, 80.59999847, 83.5       , 76.30000305])"
      ]
     },
     "execution_count": 17,
     "metadata": {},
     "output_type": "execute_result"
    }
   ],
   "source": [
    "y"
   ]
  },
  {
   "cell_type": "markdown",
   "metadata": {},
   "source": [
    "Let's plot our linear regression model (predictions) against the actual data."
   ]
  },
  {
   "cell_type": "code",
   "execution_count": 18,
   "metadata": {},
   "outputs": [
    {
     "data": {
      "text/plain": [
       "[<matplotlib.lines.Line2D at 0x7f55fde603c8>]"
      ]
     },
     "execution_count": 18,
     "metadata": {},
     "output_type": "execute_result"
    },
    {
     "data": {
      "image/png": "[encoded data removed]",
      "text/plain": [
       "<Figure size 432x288 with 1 Axes>"
      ]
     },
     "metadata": {},
     "output_type": "display_data"
    }
   ],
   "source": [
    "plt.scatter(x, y)\n",
    "plt.plot(x, (w * x + b))"
   ]
  },
  {
   "cell_type": "markdown",
   "metadata": {},
   "source": [
    "What we have worked out in this notebook is the batch gradient descent, i.e. scans through the entire training dataset to progress. But what if our training data is too large? That's where **stochastic gradient descent** comes in. A challenge is for you to work on your own to implement SGD which we define as follows,\n",
    "\n",
    "```\n",
    "Loop until convergence {\n",
    "    for j = 0 to n - 1 {\n",
    "```\n",
    "$$ w_{j} = w_{j} - \\alpha\\ (wx+b - y) \\cdot x_{j} $$\n",
    "```\n",
    "    }\n",
    "}\n",
    "```\n",
    "\n",
    "where $j$ is a \"chunk\" of the entire training dataset. Theoretically and empirically, SGD converges much faster than batch gradient descent."
   ]
  }
 ],
 "metadata": {
  "kernelspec": {
   "display_name": "Python 3",
   "language": "python",
   "name": "python3"
  },
  "language_info": {
   "codemirror_mode": {
    "name": "ipython",
    "version": 3
   },
   "file_extension": ".py",
   "mimetype": "text/x-python",
   "name": "python",
   "nbconvert_exporter": "python",
   "pygments_lexer": "ipython3",
   "version": "3.6.2"
  }
 },
 "nbformat": 4,
 "nbformat_minor": 2
}
